{
  "nbformat": 4,
  "nbformat_minor": 0,
  "metadata": {
    "colab": {
      "name": "Tutorial_3_CNN_Edge_Detector.ipnb",
      "provenance": [],
      "include_colab_link": true
    },
    "kernelspec": {
      "name": "python3",
      "display_name": "Python 3"
    },
    "widgets": {
      "application/vnd.jupyter.widget-state+json": {
        "6454e89e8bbb4cc68d45925feaf221f0": {
          "model_module": "@jupyter-widgets/controls",
          "model_name": "HBoxModel",
          "model_module_version": "1.5.0",
          "state": {
            "_dom_classes": [],
            "_model_module": "@jupyter-widgets/controls",
            "_model_module_version": "1.5.0",
            "_model_name": "HBoxModel",
            "_view_count": null,
            "_view_module": "@jupyter-widgets/controls",
            "_view_module_version": "1.5.0",
            "_view_name": "HBoxView",
            "box_style": "",
            "children": [
              "IPY_MODEL_2ec9d41654d844feaf0b2a146efd3233",
              "IPY_MODEL_cb610ef32b384efa98720876afaa2318",
              "IPY_MODEL_cccaff61862a495a9c16234b25469fb5"
            ],
            "layout": "IPY_MODEL_78f85b802a6f4faaba90186280804f31"
          }
        },
        "2ec9d41654d844feaf0b2a146efd3233": {
          "model_module": "@jupyter-widgets/controls",
          "model_name": "HTMLModel",
          "model_module_version": "1.5.0",
          "state": {
            "_dom_classes": [],
            "_model_module": "@jupyter-widgets/controls",
            "_model_module_version": "1.5.0",
            "_model_name": "HTMLModel",
            "_view_count": null,
            "_view_module": "@jupyter-widgets/controls",
            "_view_module_version": "1.5.0",
            "_view_name": "HTMLView",
            "description": "",
            "description_tooltip": null,
            "layout": "IPY_MODEL_92bcdb0e774f4e7daee220effd5e6f1e",
            "placeholder": "​",
            "style": "IPY_MODEL_9448f584c64f45ebaab4f556e445c15f",
            "value": "100%"
          }
        },
        "cb610ef32b384efa98720876afaa2318": {
          "model_module": "@jupyter-widgets/controls",
          "model_name": "FloatProgressModel",
          "model_module_version": "1.5.0",
          "state": {
            "_dom_classes": [],
            "_model_module": "@jupyter-widgets/controls",
            "_model_module_version": "1.5.0",
            "_model_name": "FloatProgressModel",
            "_view_count": null,
            "_view_module": "@jupyter-widgets/controls",
            "_view_module_version": "1.5.0",
            "_view_name": "ProgressView",
            "bar_style": "success",
            "description": "",
            "description_tooltip": null,
            "layout": "IPY_MODEL_d78288ef84fc47668117d68834a907d8",
            "max": 50000,
            "min": 0,
            "orientation": "horizontal",
            "style": "IPY_MODEL_b33f803fb0254955909f435a05da68f7",
            "value": 50000
          }
        },
        "cccaff61862a495a9c16234b25469fb5": {
          "model_module": "@jupyter-widgets/controls",
          "model_name": "HTMLModel",
          "model_module_version": "1.5.0",
          "state": {
            "_dom_classes": [],
            "_model_module": "@jupyter-widgets/controls",
            "_model_module_version": "1.5.0",
            "_model_name": "HTMLModel",
            "_view_count": null,
            "_view_module": "@jupyter-widgets/controls",
            "_view_module_version": "1.5.0",
            "_view_name": "HTMLView",
            "description": "",
            "description_tooltip": null,
            "layout": "IPY_MODEL_9f350bb61d894c10b185efc450b1201a",
            "placeholder": "​",
            "style": "IPY_MODEL_8b9b27021a06489fb4e4c818528b8d7a",
            "value": " 50000/50000 [00:14&lt;00:00, 4463.02it/s]"
          }
        },
        "78f85b802a6f4faaba90186280804f31": {
          "model_module": "@jupyter-widgets/base",
          "model_name": "LayoutModel",
          "model_module_version": "1.2.0",
          "state": {
            "_model_module": "@jupyter-widgets/base",
            "_model_module_version": "1.2.0",
            "_model_name": "LayoutModel",
            "_view_count": null,
            "_view_module": "@jupyter-widgets/base",
            "_view_module_version": "1.2.0",
            "_view_name": "LayoutView",
            "align_content": null,
            "align_items": null,
            "align_self": null,
            "border": null,
            "bottom": null,
            "display": null,
            "flex": null,
            "flex_flow": null,
            "grid_area": null,
            "grid_auto_columns": null,
            "grid_auto_flow": null,
            "grid_auto_rows": null,
            "grid_column": null,
            "grid_gap": null,
            "grid_row": null,
            "grid_template_areas": null,
            "grid_template_columns": null,
            "grid_template_rows": null,
            "height": null,
            "justify_content": null,
            "justify_items": null,
            "left": null,
            "margin": null,
            "max_height": null,
            "max_width": null,
            "min_height": null,
            "min_width": null,
            "object_fit": null,
            "object_position": null,
            "order": null,
            "overflow": null,
            "overflow_x": null,
            "overflow_y": null,
            "padding": null,
            "right": null,
            "top": null,
            "visibility": null,
            "width": null
          }
        },
        "92bcdb0e774f4e7daee220effd5e6f1e": {
          "model_module": "@jupyter-widgets/base",
          "model_name": "LayoutModel",
          "model_module_version": "1.2.0",
          "state": {
            "_model_module": "@jupyter-widgets/base",
            "_model_module_version": "1.2.0",
            "_model_name": "LayoutModel",
            "_view_count": null,
            "_view_module": "@jupyter-widgets/base",
            "_view_module_version": "1.2.0",
            "_view_name": "LayoutView",
            "align_content": null,
            "align_items": null,
            "align_self": null,
            "border": null,
            "bottom": null,
            "display": null,
            "flex": null,
            "flex_flow": null,
            "grid_area": null,
            "grid_auto_columns": null,
            "grid_auto_flow": null,
            "grid_auto_rows": null,
            "grid_column": null,
            "grid_gap": null,
            "grid_row": null,
            "grid_template_areas": null,
            "grid_template_columns": null,
            "grid_template_rows": null,
            "height": null,
            "justify_content": null,
            "justify_items": null,
            "left": null,
            "margin": null,
            "max_height": null,
            "max_width": null,
            "min_height": null,
            "min_width": null,
            "object_fit": null,
            "object_position": null,
            "order": null,
            "overflow": null,
            "overflow_x": null,
            "overflow_y": null,
            "padding": null,
            "right": null,
            "top": null,
            "visibility": null,
            "width": null
          }
        },
        "9448f584c64f45ebaab4f556e445c15f": {
          "model_module": "@jupyter-widgets/controls",
          "model_name": "DescriptionStyleModel",
          "model_module_version": "1.5.0",
          "state": {
            "_model_module": "@jupyter-widgets/controls",
            "_model_module_version": "1.5.0",
            "_model_name": "DescriptionStyleModel",
            "_view_count": null,
            "_view_module": "@jupyter-widgets/base",
            "_view_module_version": "1.2.0",
            "_view_name": "StyleView",
            "description_width": ""
          }
        },
        "d78288ef84fc47668117d68834a907d8": {
          "model_module": "@jupyter-widgets/base",
          "model_name": "LayoutModel",
          "model_module_version": "1.2.0",
          "state": {
            "_model_module": "@jupyter-widgets/base",
            "_model_module_version": "1.2.0",
            "_model_name": "LayoutModel",
            "_view_count": null,
            "_view_module": "@jupyter-widgets/base",
            "_view_module_version": "1.2.0",
            "_view_name": "LayoutView",
            "align_content": null,
            "align_items": null,
            "align_self": null,
            "border": null,
            "bottom": null,
            "display": null,
            "flex": null,
            "flex_flow": null,
            "grid_area": null,
            "grid_auto_columns": null,
            "grid_auto_flow": null,
            "grid_auto_rows": null,
            "grid_column": null,
            "grid_gap": null,
            "grid_row": null,
            "grid_template_areas": null,
            "grid_template_columns": null,
            "grid_template_rows": null,
            "height": null,
            "justify_content": null,
            "justify_items": null,
            "left": null,
            "margin": null,
            "max_height": null,
            "max_width": null,
            "min_height": null,
            "min_width": null,
            "object_fit": null,
            "object_position": null,
            "order": null,
            "overflow": null,
            "overflow_x": null,
            "overflow_y": null,
            "padding": null,
            "right": null,
            "top": null,
            "visibility": null,
            "width": null
          }
        },
        "b33f803fb0254955909f435a05da68f7": {
          "model_module": "@jupyter-widgets/controls",
          "model_name": "ProgressStyleModel",
          "model_module_version": "1.5.0",
          "state": {
            "_model_module": "@jupyter-widgets/controls",
            "_model_module_version": "1.5.0",
            "_model_name": "ProgressStyleModel",
            "_view_count": null,
            "_view_module": "@jupyter-widgets/base",
            "_view_module_version": "1.2.0",
            "_view_name": "StyleView",
            "bar_color": null,
            "description_width": ""
          }
        },
        "9f350bb61d894c10b185efc450b1201a": {
          "model_module": "@jupyter-widgets/base",
          "model_name": "LayoutModel",
          "model_module_version": "1.2.0",
          "state": {
            "_model_module": "@jupyter-widgets/base",
            "_model_module_version": "1.2.0",
            "_model_name": "LayoutModel",
            "_view_count": null,
            "_view_module": "@jupyter-widgets/base",
            "_view_module_version": "1.2.0",
            "_view_name": "LayoutView",
            "align_content": null,
            "align_items": null,
            "align_self": null,
            "border": null,
            "bottom": null,
            "display": null,
            "flex": null,
            "flex_flow": null,
            "grid_area": null,
            "grid_auto_columns": null,
            "grid_auto_flow": null,
            "grid_auto_rows": null,
            "grid_column": null,
            "grid_gap": null,
            "grid_row": null,
            "grid_template_areas": null,
            "grid_template_columns": null,
            "grid_template_rows": null,
            "height": null,
            "justify_content": null,
            "justify_items": null,
            "left": null,
            "margin": null,
            "max_height": null,
            "max_width": null,
            "min_height": null,
            "min_width": null,
            "object_fit": null,
            "object_position": null,
            "order": null,
            "overflow": null,
            "overflow_x": null,
            "overflow_y": null,
            "padding": null,
            "right": null,
            "top": null,
            "visibility": null,
            "width": null
          }
        },
        "8b9b27021a06489fb4e4c818528b8d7a": {
          "model_module": "@jupyter-widgets/controls",
          "model_name": "DescriptionStyleModel",
          "model_module_version": "1.5.0",
          "state": {
            "_model_module": "@jupyter-widgets/controls",
            "_model_module_version": "1.5.0",
            "_model_name": "DescriptionStyleModel",
            "_view_count": null,
            "_view_module": "@jupyter-widgets/base",
            "_view_module_version": "1.2.0",
            "_view_name": "StyleView",
            "description_width": ""
          }
        },
        "65a50874a36f4bf7beec74f3abcfa6b2": {
          "model_module": "@jupyter-widgets/controls",
          "model_name": "HBoxModel",
          "model_module_version": "1.5.0",
          "state": {
            "_dom_classes": [],
            "_model_module": "@jupyter-widgets/controls",
            "_model_module_version": "1.5.0",
            "_model_name": "HBoxModel",
            "_view_count": null,
            "_view_module": "@jupyter-widgets/controls",
            "_view_module_version": "1.5.0",
            "_view_name": "HBoxView",
            "box_style": "",
            "children": [
              "IPY_MODEL_1b5fce4e305941e88788c39e30534e2f",
              "IPY_MODEL_d9c9bba7e40e4a3ab052ccf408a008ee",
              "IPY_MODEL_69ac97f01b374b99b3815ef609faf4d1"
            ],
            "layout": "IPY_MODEL_9c87a428e0884710adf956150c7e612d"
          }
        },
        "1b5fce4e305941e88788c39e30534e2f": {
          "model_module": "@jupyter-widgets/controls",
          "model_name": "HTMLModel",
          "model_module_version": "1.5.0",
          "state": {
            "_dom_classes": [],
            "_model_module": "@jupyter-widgets/controls",
            "_model_module_version": "1.5.0",
            "_model_name": "HTMLModel",
            "_view_count": null,
            "_view_module": "@jupyter-widgets/controls",
            "_view_module_version": "1.5.0",
            "_view_name": "HTMLView",
            "description": "",
            "description_tooltip": null,
            "layout": "IPY_MODEL_3a59ba8b1c9c445c827857cd2fa703fe",
            "placeholder": "​",
            "style": "IPY_MODEL_3824ea990e1b4783bda10af63c4fc09a",
            "value": "100%"
          }
        },
        "d9c9bba7e40e4a3ab052ccf408a008ee": {
          "model_module": "@jupyter-widgets/controls",
          "model_name": "FloatProgressModel",
          "model_module_version": "1.5.0",
          "state": {
            "_dom_classes": [],
            "_model_module": "@jupyter-widgets/controls",
            "_model_module_version": "1.5.0",
            "_model_name": "FloatProgressModel",
            "_view_count": null,
            "_view_module": "@jupyter-widgets/controls",
            "_view_module_version": "1.5.0",
            "_view_name": "ProgressView",
            "bar_style": "success",
            "description": "",
            "description_tooltip": null,
            "layout": "IPY_MODEL_9ceabc692d204d99b2c8ba860d51aa47",
            "max": 10000,
            "min": 0,
            "orientation": "horizontal",
            "style": "IPY_MODEL_4882e8e883854e36a2010e6afe004a29",
            "value": 10000
          }
        },
        "69ac97f01b374b99b3815ef609faf4d1": {
          "model_module": "@jupyter-widgets/controls",
          "model_name": "HTMLModel",
          "model_module_version": "1.5.0",
          "state": {
            "_dom_classes": [],
            "_model_module": "@jupyter-widgets/controls",
            "_model_module_version": "1.5.0",
            "_model_name": "HTMLModel",
            "_view_count": null,
            "_view_module": "@jupyter-widgets/controls",
            "_view_module_version": "1.5.0",
            "_view_name": "HTMLView",
            "description": "",
            "description_tooltip": null,
            "layout": "IPY_MODEL_29d4eb3c9d7d4d1cb6d6086ac546f24c",
            "placeholder": "​",
            "style": "IPY_MODEL_3adc57135d6644fab476794729f71d1b",
            "value": " 10000/10000 [00:02&lt;00:00, 4071.13it/s]"
          }
        },
        "9c87a428e0884710adf956150c7e612d": {
          "model_module": "@jupyter-widgets/base",
          "model_name": "LayoutModel",
          "model_module_version": "1.2.0",
          "state": {
            "_model_module": "@jupyter-widgets/base",
            "_model_module_version": "1.2.0",
            "_model_name": "LayoutModel",
            "_view_count": null,
            "_view_module": "@jupyter-widgets/base",
            "_view_module_version": "1.2.0",
            "_view_name": "LayoutView",
            "align_content": null,
            "align_items": null,
            "align_self": null,
            "border": null,
            "bottom": null,
            "display": null,
            "flex": null,
            "flex_flow": null,
            "grid_area": null,
            "grid_auto_columns": null,
            "grid_auto_flow": null,
            "grid_auto_rows": null,
            "grid_column": null,
            "grid_gap": null,
            "grid_row": null,
            "grid_template_areas": null,
            "grid_template_columns": null,
            "grid_template_rows": null,
            "height": null,
            "justify_content": null,
            "justify_items": null,
            "left": null,
            "margin": null,
            "max_height": null,
            "max_width": null,
            "min_height": null,
            "min_width": null,
            "object_fit": null,
            "object_position": null,
            "order": null,
            "overflow": null,
            "overflow_x": null,
            "overflow_y": null,
            "padding": null,
            "right": null,
            "top": null,
            "visibility": null,
            "width": null
          }
        },
        "3a59ba8b1c9c445c827857cd2fa703fe": {
          "model_module": "@jupyter-widgets/base",
          "model_name": "LayoutModel",
          "model_module_version": "1.2.0",
          "state": {
            "_model_module": "@jupyter-widgets/base",
            "_model_module_version": "1.2.0",
            "_model_name": "LayoutModel",
            "_view_count": null,
            "_view_module": "@jupyter-widgets/base",
            "_view_module_version": "1.2.0",
            "_view_name": "LayoutView",
            "align_content": null,
            "align_items": null,
            "align_self": null,
            "border": null,
            "bottom": null,
            "display": null,
            "flex": null,
            "flex_flow": null,
            "grid_area": null,
            "grid_auto_columns": null,
            "grid_auto_flow": null,
            "grid_auto_rows": null,
            "grid_column": null,
            "grid_gap": null,
            "grid_row": null,
            "grid_template_areas": null,
            "grid_template_columns": null,
            "grid_template_rows": null,
            "height": null,
            "justify_content": null,
            "justify_items": null,
            "left": null,
            "margin": null,
            "max_height": null,
            "max_width": null,
            "min_height": null,
            "min_width": null,
            "object_fit": null,
            "object_position": null,
            "order": null,
            "overflow": null,
            "overflow_x": null,
            "overflow_y": null,
            "padding": null,
            "right": null,
            "top": null,
            "visibility": null,
            "width": null
          }
        },
        "3824ea990e1b4783bda10af63c4fc09a": {
          "model_module": "@jupyter-widgets/controls",
          "model_name": "DescriptionStyleModel",
          "model_module_version": "1.5.0",
          "state": {
            "_model_module": "@jupyter-widgets/controls",
            "_model_module_version": "1.5.0",
            "_model_name": "DescriptionStyleModel",
            "_view_count": null,
            "_view_module": "@jupyter-widgets/base",
            "_view_module_version": "1.2.0",
            "_view_name": "StyleView",
            "description_width": ""
          }
        },
        "9ceabc692d204d99b2c8ba860d51aa47": {
          "model_module": "@jupyter-widgets/base",
          "model_name": "LayoutModel",
          "model_module_version": "1.2.0",
          "state": {
            "_model_module": "@jupyter-widgets/base",
            "_model_module_version": "1.2.0",
            "_model_name": "LayoutModel",
            "_view_count": null,
            "_view_module": "@jupyter-widgets/base",
            "_view_module_version": "1.2.0",
            "_view_name": "LayoutView",
            "align_content": null,
            "align_items": null,
            "align_self": null,
            "border": null,
            "bottom": null,
            "display": null,
            "flex": null,
            "flex_flow": null,
            "grid_area": null,
            "grid_auto_columns": null,
            "grid_auto_flow": null,
            "grid_auto_rows": null,
            "grid_column": null,
            "grid_gap": null,
            "grid_row": null,
            "grid_template_areas": null,
            "grid_template_columns": null,
            "grid_template_rows": null,
            "height": null,
            "justify_content": null,
            "justify_items": null,
            "left": null,
            "margin": null,
            "max_height": null,
            "max_width": null,
            "min_height": null,
            "min_width": null,
            "object_fit": null,
            "object_position": null,
            "order": null,
            "overflow": null,
            "overflow_x": null,
            "overflow_y": null,
            "padding": null,
            "right": null,
            "top": null,
            "visibility": null,
            "width": null
          }
        },
        "4882e8e883854e36a2010e6afe004a29": {
          "model_module": "@jupyter-widgets/controls",
          "model_name": "ProgressStyleModel",
          "model_module_version": "1.5.0",
          "state": {
            "_model_module": "@jupyter-widgets/controls",
            "_model_module_version": "1.5.0",
            "_model_name": "ProgressStyleModel",
            "_view_count": null,
            "_view_module": "@jupyter-widgets/base",
            "_view_module_version": "1.2.0",
            "_view_name": "StyleView",
            "bar_color": null,
            "description_width": ""
          }
        },
        "29d4eb3c9d7d4d1cb6d6086ac546f24c": {
          "model_module": "@jupyter-widgets/base",
          "model_name": "LayoutModel",
          "model_module_version": "1.2.0",
          "state": {
            "_model_module": "@jupyter-widgets/base",
            "_model_module_version": "1.2.0",
            "_model_name": "LayoutModel",
            "_view_count": null,
            "_view_module": "@jupyter-widgets/base",
            "_view_module_version": "1.2.0",
            "_view_name": "LayoutView",
            "align_content": null,
            "align_items": null,
            "align_self": null,
            "border": null,
            "bottom": null,
            "display": null,
            "flex": null,
            "flex_flow": null,
            "grid_area": null,
            "grid_auto_columns": null,
            "grid_auto_flow": null,
            "grid_auto_rows": null,
            "grid_column": null,
            "grid_gap": null,
            "grid_row": null,
            "grid_template_areas": null,
            "grid_template_columns": null,
            "grid_template_rows": null,
            "height": null,
            "justify_content": null,
            "justify_items": null,
            "left": null,
            "margin": null,
            "max_height": null,
            "max_width": null,
            "min_height": null,
            "min_width": null,
            "object_fit": null,
            "object_position": null,
            "order": null,
            "overflow": null,
            "overflow_x": null,
            "overflow_y": null,
            "padding": null,
            "right": null,
            "top": null,
            "visibility": null,
            "width": null
          }
        },
        "3adc57135d6644fab476794729f71d1b": {
          "model_module": "@jupyter-widgets/controls",
          "model_name": "DescriptionStyleModel",
          "model_module_version": "1.5.0",
          "state": {
            "_model_module": "@jupyter-widgets/controls",
            "_model_module_version": "1.5.0",
            "_model_name": "DescriptionStyleModel",
            "_view_count": null,
            "_view_module": "@jupyter-widgets/base",
            "_view_module_version": "1.2.0",
            "_view_name": "StyleView",
            "description_width": ""
          }
        }
      }
    }
  },
  "cells": [
    {
      "cell_type": "markdown",
      "metadata": {
        "id": "view-in-github",
        "colab_type": "text"
      },
      "source": [
        "<a href=\"https://colab.research.google.com/github/JangHeeSu999/Ecom6Shop/blob/main/Tutorial_3_CNN_Edge_Detector_ipnb.ipynb\" target=\"_parent\"><img src=\"https://colab.research.google.com/assets/colab-badge.svg\" alt=\"Open In Colab\"/></a>"
      ]
    },
    {
      "cell_type": "markdown",
      "metadata": {
        "id": "6_HbfAeYHCJX"
      },
      "source": [
        "## 1. 라이브러리 로드\n",
        "\n",
        "필요한 라이브러리를 로드해줍니다."
      ]
    },
    {
      "cell_type": "code",
      "metadata": {
        "id": "cG4mYxNYGeo4"
      },
      "source": [
        "from __future__ import print_function\n",
        "import tensorflow as tf\n",
        "from tensorflow import keras\n",
        "from tensorflow.keras.datasets import cifar10\n",
        "import numpy as np\n",
        "import matplotlib.pyplot as plt\n",
        "from tqdm.notebook import tqdm"
      ],
      "execution_count": 1,
      "outputs": []
    },
    {
      "cell_type": "markdown",
      "metadata": {
        "id": "TBcQv21EHLSv"
      },
      "source": [
        "## 2. 데이터셋 로드\n",
        "\n",
        "이번에도 [CIFAR-10](https://www.cs.toronto.edu/~kriz/cifar.html) 데이터를 사용할 예정입니다.\n",
        "\n",
        "CIFAR-10에 대한 데이터 살펴보기 예제는 [이 포스트](https://github.com/Intelligence-Engineering-LAB-KU/Deeplearning-Tutorial/blob/master/Tutorial%201%29%20CIFAR10_Softmax.ipynb)를 복습해주세요."
      ]
    },
    {
      "cell_type": "code",
      "metadata": {
        "id": "XvVbxX4xHUo_",
        "colab": {
          "base_uri": "https://localhost:8080/",
          "height": 0
        },
        "outputId": "6d0e5d12-1abc-4d38-a1ec-6e3d6b3a2899"
      },
      "source": [
        "(x_train, y_train), (x_test, y_test) = cifar10.load_data()"
      ],
      "execution_count": 2,
      "outputs": [
        {
          "output_type": "stream",
          "name": "stdout",
          "text": [
            "Downloading data from https://www.cs.toronto.edu/~kriz/cifar-10-python.tar.gz\n",
            "\u001b[1m170498071/170498071\u001b[0m \u001b[32m━━━━━━━━━━━━━━━━━━━━\u001b[0m\u001b[37m\u001b[0m \u001b[1m4s\u001b[0m 0us/step\n"
          ]
        }
      ]
    },
    {
      "cell_type": "markdown",
      "metadata": {
        "id": "1LuJPkFjL7Gy"
      },
      "source": [
        "1번 인덱스에 위치한 말 이미지를 불러와보겠습니다."
      ]
    },
    {
      "cell_type": "code",
      "metadata": {
        "id": "a6n73xiJMIY5",
        "colab": {
          "base_uri": "https://localhost:8080/",
          "height": 387
        },
        "outputId": "590619c7-1afd-4a25-e501-125a29f7ef3d"
      },
      "source": [
        "plt.figure(figsize=(4,4))\n",
        "plt.imshow(x_train[7].astype('uint8'), cmap=plt.cm.gray)\n",
        "plt.show()\n",
        "\n",
        "print('label: ', y_train[7])"
      ],
      "execution_count": 3,
      "outputs": [
        {
          "output_type": "display_data",
          "data": {
            "text/plain": [
              "<Figure size 400x400 with 1 Axes>"
            ],
            "image/png": "[encoded data removed]"
          },
          "metadata": {}
        },
        {
          "output_type": "stream",
          "name": "stdout",
          "text": [
            "label:  [7]\n"
          ]
        }
      ]
    },
    {
      "cell_type": "markdown",
      "metadata": {
        "id": "vsWyrevg4Cbz"
      },
      "source": [
        "### 3. Sobel Operator 복습\n",
        "\n",
        "review: [지난 포스트](https://github.com/Intelligence-Engineering-LAB-KU/Deeplearning-Tutorial/blob/master/Tutorial_2_Sobel_Opearatior.ipynb)에서는 아래와 같은 Sobel opearatoin을 만들어 보았습니다.\n",
        "\n",
        "그러나 for loop 기반으로 동작하는 코드는 벡터 연산을 활용하는 코드보다 동작이 느립니다. 이번 예제에서는\n",
        "\n",
        "```python\n",
        "from skimage.color import rgb2gray ## RGB 3채널 이미지를 흑백이미지로\n",
        "from skimage.filters import sobel_h, sobel_v  ## sobel operator\n",
        "```\n",
        "\n",
        "위 라이브러리들을 이용하여 edge를 detection해볼 것입니다.\n",
        "\n",
        "지난 포스트 방식과 큰 차이는 없지만, [padding](https://brunch.co.kr/@coolmindory/37) 기법이 추가되어 이미지의 사이즈가 이전과 달라지지 않으며,\n",
        "\n",
        "결과값들이 0에서 1사이의 값을 가지도록 후처리를 한다는 점이 다릅니다."
      ]
    },
    {
      "cell_type": "code",
      "metadata": {
        "id": "BrbDnPsgriEx",
        "colab": {
          "base_uri": "https://localhost:8080/",
          "height": 457
        },
        "outputId": "1979b779-0403-4346-9e79-0d566a7f3cac"
      },
      "source": [
        "from skimage.filters import sobel_h, sobel_v\n",
        "from skimage.color import rgb2gray\n",
        "\n",
        "def sobel (image, thresold=180):\n",
        "  grey_image = rgb2gray(image)\n",
        "  convx = sobel_h(grey_image)\n",
        "  convy = sobel_v(grey_image)\n",
        "  output = np.sqrt(convx**2 + convy**2)\n",
        "  return output\n",
        "\n",
        "plt.figure(figsize=(2,2))\n",
        "plt.imshow(x_train[7].astype('uint8'))\n",
        "plt.title('original')\n",
        "plt.show()\n",
        "\n",
        "plt.figure(figsize=(2,2))\n",
        "plt.imshow(sobel(x_train[7]), cmap=plt.cm.gray)\n",
        "plt.title('sobel operator')\n",
        "plt.show()"
      ],
      "execution_count": 4,
      "outputs": [
        {
          "output_type": "display_data",
          "data": {
            "text/plain": [
              "<Figure size 200x200 with 1 Axes>"
            ],
            "image/png": "[encoded data removed]"
          },
          "metadata": {}
        },
        {
          "output_type": "display_data",
          "data": {
            "text/plain": [
              "<Figure size 200x200 with 1 Axes>"
            ],
            "image/png": "[encoded data removed]"
          },
          "metadata": {}
        }
      ]
    },
    {
      "cell_type": "markdown",
      "metadata": {
        "id": "XBNCb_E8K2CE"
      },
      "source": [
        "### 4. Sobel Opearator의 역할을 수행하는 Convolution Layer를 학습해보자.\n",
        "\n",
        "4장에서는 Random으로 초기화된 Convolution Layer가 Sobel Operator와 같은 역할을 수행할 수 있는지 실험해보겠습니다.\n",
        "\n",
        "즉, 우리의 목적은 model(img)의 결과가 sobel_operator(img) 와 비슷해지도록 model을 학습하는 것입니다.\n",
        "\n",
        "그러기 위해 Keras의 [Conv2d API](https://www.tensorflow.org/api_docs/python/tf/keras/layers/Conv2D)를 이용하여 모델을 정의해보겠습니다.\n",
        "\n",
        "```python\n",
        "tf.keras.layers.Conv2D(\n",
        "    filters, kernel_size, strides=(1, 1), padding='valid', data_format=None,\n",
        "    dilation_rate=(1, 1), activation=None, use_bias=True,\n",
        "    kernel_initializer='glorot_uniform', bias_initializer='zeros',\n",
        "    kernel_regularizer=None, bias_regularizer=None, activity_regularizer=None,\n",
        "    kernel_constraint=None, bias_constraint=None, **kwargs\n",
        ")\n",
        "```\n",
        "#### 4.1. 학습 데이터 구축\n",
        "\n",
        "정답 데이터는 더 이상 레이블인 y_train, y_test가 아니라, edge 이미지입니다.\n",
        "\n",
        "따라서 다음과 같이 edge 이미지들을 만들어주겠습니다."
      ]
    },
    {
      "cell_type": "code",
      "metadata": {
        "id": "Lo0QB6oK66j5",
        "colab": {
          "base_uri": "https://localhost:8080/",
          "height": 301,
          "referenced_widgets": [
            "6454e89e8bbb4cc68d45925feaf221f0",
            "2ec9d41654d844feaf0b2a146efd3233",
            "cb610ef32b384efa98720876afaa2318",
            "cccaff61862a495a9c16234b25469fb5",
            "78f85b802a6f4faaba90186280804f31",
            "92bcdb0e774f4e7daee220effd5e6f1e",
            "9448f584c64f45ebaab4f556e445c15f",
            "d78288ef84fc47668117d68834a907d8",
            "b33f803fb0254955909f435a05da68f7",
            "9f350bb61d894c10b185efc450b1201a",
            "8b9b27021a06489fb4e4c818528b8d7a",
            "65a50874a36f4bf7beec74f3abcfa6b2",
            "1b5fce4e305941e88788c39e30534e2f",
            "d9c9bba7e40e4a3ab052ccf408a008ee",
            "69ac97f01b374b99b3815ef609faf4d1",
            "9c87a428e0884710adf956150c7e612d",
            "3a59ba8b1c9c445c827857cd2fa703fe",
            "3824ea990e1b4783bda10af63c4fc09a",
            "9ceabc692d204d99b2c8ba860d51aa47",
            "4882e8e883854e36a2010e6afe004a29",
            "29d4eb3c9d7d4d1cb6d6086ac546f24c",
            "3adc57135d6644fab476794729f71d1b"
          ]
        },
        "outputId": "185901ad-dda5-4562-c701-c2fa5ee3fb40"
      },
      "source": [
        "sobel_train = np.array([sobel(img) for img in tqdm(x_train)])\n",
        "sobel_test  = np.array([sobel(img) for img in tqdm(x_test)])\n",
        "\n",
        "plt.figure(figsize=(2,2))\n",
        "plt.imshow(sobel_train[7], cmap=plt.cm.gray)\n",
        "plt.title('sobel operator (bulk-loaded)')\n",
        "plt.show()"
      ],
      "execution_count": 5,
      "outputs": [
        {
          "output_type": "display_data",
          "data": {
            "text/plain": [
              "  0%|          | 0/50000 [00:00<?, ?it/s]"
            ],
            "application/vnd.jupyter.widget-view+json": {
              "version_major": 2,
              "version_minor": 0,
              "model_id": "6454e89e8bbb4cc68d45925feaf221f0"
            }
          },
          "metadata": {}
        },
        {
          "output_type": "display_data",
          "data": {
            "text/plain": [
              "  0%|          | 0/10000 [00:00<?, ?it/s]"
            ],
            "application/vnd.jupyter.widget-view+json": {
              "version_major": 2,
              "version_minor": 0,
              "model_id": "65a50874a36f4bf7beec74f3abcfa6b2"
            }
          },
          "metadata": {}
        },
        {
          "output_type": "display_data",
          "data": {
            "text/plain": [
              "<Figure size 200x200 with 1 Axes>"
            ],
            "image/png": "[encoded data removed]"
          },
          "metadata": {}
        }
      ]
    },
    {
      "cell_type": "markdown",
      "metadata": {
        "id": "pE16uLSB7OFa"
      },
      "source": [
        "#### 4.2. 모델 정의\n",
        "\n",
        "Sobel Operator는 먼저 gray scale로 이미지를 변환한 후, 두 개의 커널로 convolution 연산을 수행하고\n",
        "\n",
        "마지막으로 $G_{x}$ 와 $G_{y}$ 의 크기를 측정한다.\n",
        "\n",
        "이 과정을 3계층의 Convolution Layer들이 모사한다고 가정하고 다음과 같은 모델을 만든다."
      ]
    },
    {
      "cell_type": "code",
      "metadata": {
        "id": "gYm3uUDTuqvX",
        "colab": {
          "base_uri": "https://localhost:8080/",
          "height": 0
        },
        "outputId": "46cc79aa-b717-45d1-ee45-2f082e1b59e2"
      },
      "source": [
        "from tensorflow.keras.models import Sequential\n",
        "from tensorflow.keras.layers import Conv2D, LeakyReLU\n",
        "from keras.regularizers import l1\n",
        "from tensorflow.keras.layers import LeakyReLU\n",
        "\n",
        "tf.random.set_seed(2020)\n",
        "\n",
        "'''model = Sequential([\n",
        "    Conv2D(filters=2,kernel_size=(3,3), padding='same', activation='relu',    kernel_initializer='he_normal', kernel_regularizer=l1(1e-4), bias_regularizer=l1(1e-4), input_shape=(32, 32, 3)),\n",
        "    Conv2D(filters=4,kernel_size=(3,3), padding='same', activation='relu',    kernel_initializer='he_normal', kernel_regularizer=l1(1e-4), bias_regularizer=l1(1e-4)),\n",
        "    Conv2D(filters=1,kernel_size=(1,1), padding='same', activation='sigmoid', kernel_initializer='he_normal', kernel_regularizer=l1(1e-4), bias_regularizer=l1(1e-4)),\n",
        "])'''\n",
        "\n",
        "#LeakyReLU 적용\n",
        "\"\"\"model = Sequential([\n",
        "    Conv2D(filters=2, kernel_size=(3,3), padding='same', kernel_initializer='he_normal', kernel_regularizer=l1(1e-4), bias_regularizer=l1(1e-4), input_shape=(32, 32, 3)),\n",
        "    LeakyReLU(alpha=0.1),  # LeakyReLU 추가\n",
        "    Conv2D(filters=4, kernel_size=(3,3), padding='same', kernel_initializer='he_normal', kernel_regularizer=l1(1e-4), bias_regularizer=l1(1e-4)),\n",
        "    LeakyReLU(alpha=0.1),  # LeakyReLU 추가\n",
        "    Conv2D(filters=1, kernel_size=(1,1), padding='same', activation='sigmoid', kernel_initializer='he_normal', kernel_regularizer=l1(1e-4), bias_regularizer=l1(1e-4)),\n",
        "])\"\"\"\n",
        "\n",
        "#ELU 적용\n",
        "\n",
        "from tensorflow.keras.layers import ELU\n",
        "\n",
        "model = Sequential([\n",
        "    Conv2D(filters=2, kernel_size=(3,3), padding='same', kernel_initializer='he_normal', kernel_regularizer=l1(1e-4), bias_regularizer=l1(1e-4), input_shape=(32, 32, 3)),\n",
        "    ELU(alpha=1.0),  # ELU 추가\n",
        "    Conv2D(filters=4, kernel_size=(3,3), padding='same', kernel_initializer='he_normal', kernel_regularizer=l1(1e-4), bias_regularizer=l1(1e-4)),\n",
        "    ELU(alpha=1.0),  # ELU 추가\n",
        "    Conv2D(filters=1, kernel_size=(1,1), padding='same', activation='sigmoid', kernel_initializer='he_normal', kernel_regularizer=l1(1e-4), bias_regularizer=l1(1e-4)),\n",
        "])\n"
      ],
      "execution_count": 6,
      "outputs": [
        {
          "output_type": "stream",
          "name": "stderr",
          "text": [
            "/usr/local/lib/python3.10/dist-packages/keras/src/layers/convolutional/base_conv.py:107: UserWarning: Do not pass an `input_shape`/`input_dim` argument to a layer. When using Sequential models, prefer using an `Input(shape)` object as the first layer in the model instead.\n",
            "  super().__init__(activity_regularizer=activity_regularizer, **kwargs)\n"
          ]
        }
      ]
    },
    {
      "cell_type": "markdown",
      "metadata": {
        "id": "tqQgvFez_jbf"
      },
      "source": [
        "이제 총 $N$개의 이미지에 대해\n",
        "모델이 추정한 $i$번째 edge 이미지 $model(img_{i})$와 sobel operator의 결과물인 $G^{img_{i}}$ 사이의 차이를 정량화하기 위해, 다음과 같은 손실 함수를 사용한다고 가정해보겠습니다.\n",
        "\n",
        "$MAE= \\sum_{i}^N\\sum_{p \\in pixels}|model(img_{i})_{p}-G_{p}^{img_{i}}|$\n",
        "\n",
        "Keras에서는 위 손실함수를 keras.losses.MeanAbsoluteError() 에서 지원합니다.\n",
        "\n",
        "이제 아래와 같이 MAE 손실함수를 쓰며 Adam optimizer에 의해 최적화되는 모델을 컴파일해보겠습니다."
      ]
    },
    {
      "cell_type": "code",
      "metadata": {
        "id": "txhrRv1X_kJd"
      },
      "source": [
        "## 학습가능한 필터를 가지고 있는 CNN으로 sobel operation을 학습해보자\n",
        "model.compile(\n",
        "          loss=keras.losses.MeanAbsoluteError(),\n",
        "          optimizer=keras.optimizers.Adam())"
      ],
      "execution_count": 7,
      "outputs": []
    },
    {
      "cell_type": "markdown",
      "metadata": {
        "id": "E7wRS44v_Ikh"
      },
      "source": [
        "훈련 전이므로, 다음과 같이 모델에 말 이미지를 넣으면 노이즈에 가까운 결과가 생성될 것입니다."
      ]
    },
    {
      "cell_type": "code",
      "metadata": {
        "id": "JYmuZSvL_LNI",
        "colab": {
          "base_uri": "https://localhost:8080/",
          "height": 237
        },
        "outputId": "335c98d4-6952-4950-f5f1-7d8dd0af21f3"
      },
      "source": [
        "def learned_edge_detection (model, img):\n",
        "  return model(img.reshape(-1,32,32,3)).numpy()[0,:,:,0]\n",
        "\n",
        "plt.figure(figsize=(2,2))\n",
        "plt.imshow(learned_edge_detection(model, x_train[7]), cmap=plt.cm.gray)\n",
        "plt.title('learned edge detector')\n",
        "plt.show()"
      ],
      "execution_count": 8,
      "outputs": [
        {
          "output_type": "display_data",
          "data": {
            "text/plain": [
              "<Figure size 200x200 with 1 Axes>"
            ],
            "image/png": "[encoded data removed]"
          },
          "metadata": {}
        }
      ]
    },
    {
      "cell_type": "markdown",
      "metadata": {
        "id": "-arnPbJ1tTOt"
      },
      "source": [
        "#### 4.3 모델 훈련\n",
        "\n",
        "그렇다면, 이제 모델을 훈련시켜보겠습니다.\n"
      ]
    },
    {
      "cell_type": "code",
      "metadata": {
        "id": "447jN4PjtWWZ",
        "colab": {
          "base_uri": "https://localhost:8080/",
          "height": 0
        },
        "outputId": "d2db723d-2dc2-4540-dc30-07bb28ff17ee"
      },
      "source": [
        "model.fit(x_train, sobel_train,\n",
        "          batch_size=32,\n",
        "          epochs=10,\n",
        "          validation_data=(x_test, sobel_test),\n",
        "          shuffle=True)"
      ],
      "execution_count": 9,
      "outputs": [
        {
          "output_type": "stream",
          "name": "stdout",
          "text": [
            "Epoch 1/10\n",
            "\u001b[1m1563/1563\u001b[0m \u001b[32m━━━━━━━━━━━━━━━━━━━━\u001b[0m\u001b[37m\u001b[0m \u001b[1m43s\u001b[0m 27ms/step - loss: 0.1382 - val_loss: 0.1345\n",
            "Epoch 2/10\n",
            "\u001b[1m1563/1563\u001b[0m \u001b[32m━━━━━━━━━━━━━━━━━━━━\u001b[0m\u001b[37m\u001b[0m \u001b[1m42s\u001b[0m 27ms/step - loss: 0.1346 - val_loss: 0.1339\n",
            "Epoch 3/10\n",
            "\u001b[1m1563/1563\u001b[0m \u001b[32m━━━━━━━━━━━━━━━━━━━━\u001b[0m\u001b[37m\u001b[0m \u001b[1m81s\u001b[0m 26ms/step - loss: 0.1341 - val_loss: 0.1335\n",
            "Epoch 4/10\n",
            "\u001b[1m1563/1563\u001b[0m \u001b[32m━━━━━━━━━━━━━━━━━━━━\u001b[0m\u001b[37m\u001b[0m \u001b[1m82s\u001b[0m 27ms/step - loss: 0.1338 - val_loss: 0.1333\n",
            "Epoch 5/10\n",
            "\u001b[1m1563/1563\u001b[0m \u001b[32m━━━━━━━━━━━━━━━━━━━━\u001b[0m\u001b[37m\u001b[0m \u001b[1m82s\u001b[0m 27ms/step - loss: 0.1336 - val_loss: 0.1333\n",
            "Epoch 6/10\n",
            "\u001b[1m1563/1563\u001b[0m \u001b[32m━━━━━━━━━━━━━━━━━━━━\u001b[0m\u001b[37m\u001b[0m \u001b[1m82s\u001b[0m 27ms/step - loss: 0.1336 - val_loss: 0.1333\n",
            "Epoch 7/10\n",
            "\u001b[1m1563/1563\u001b[0m \u001b[32m━━━━━━━━━━━━━━━━━━━━\u001b[0m\u001b[37m\u001b[0m \u001b[1m84s\u001b[0m 28ms/step - loss: 0.1336 - val_loss: 0.1332\n",
            "Epoch 8/10\n",
            "\u001b[1m1563/1563\u001b[0m \u001b[32m━━━━━━━━━━━━━━━━━━━━\u001b[0m\u001b[37m\u001b[0m \u001b[1m80s\u001b[0m 27ms/step - loss: 0.1336 - val_loss: 0.1333\n",
            "Epoch 9/10\n",
            "\u001b[1m1563/1563\u001b[0m \u001b[32m━━━━━━━━━━━━━━━━━━━━\u001b[0m\u001b[37m\u001b[0m \u001b[1m42s\u001b[0m 27ms/step - loss: 0.1336 - val_loss: 0.1333\n",
            "Epoch 10/10\n",
            "\u001b[1m1563/1563\u001b[0m \u001b[32m━━━━━━━━━━━━━━━━━━━━\u001b[0m\u001b[37m\u001b[0m \u001b[1m42s\u001b[0m 27ms/step - loss: 0.1336 - val_loss: 0.1333\n"
          ]
        },
        {
          "output_type": "execute_result",
          "data": {
            "text/plain": [
              "<keras.src.callbacks.history.History at 0x7e0a846f4d00>"
            ]
          },
          "metadata": {},
          "execution_count": 9
        }
      ]
    },
    {
      "cell_type": "markdown",
      "metadata": {
        "id": "7675-rG39w8r"
      },
      "source": [
        "훈련된 모델로 edge detector를 만들어 본 후, 이를 가시화해보겠습니다."
      ]
    },
    {
      "cell_type": "code",
      "metadata": {
        "id": "A1ZmvZcb5fFT",
        "colab": {
          "base_uri": "https://localhost:8080/",
          "height": 677
        },
        "outputId": "5dccf59e-659b-4007-8a24-02db578a3212"
      },
      "source": [
        "plt.figure(figsize=(2,2))\n",
        "plt.imshow(x_train[7].astype('uint8'))\n",
        "plt.title('original')\n",
        "plt.show()\n",
        "\n",
        "plt.figure(figsize=(2,2))\n",
        "plt.imshow(sobel(x_train[7]), cmap=plt.cm.gray)\n",
        "plt.title('sobel operator')\n",
        "plt.show()\n",
        "\n",
        "plt.figure(figsize=(2,2))\n",
        "plt.imshow(learned_edge_detection(model, x_train[7]), cmap=plt.cm.gray)\n",
        "plt.title('learned edge detector')\n",
        "plt.show()"
      ],
      "execution_count": 10,
      "outputs": [
        {
          "output_type": "display_data",
          "data": {
            "text/plain": [
              "<Figure size 200x200 with 1 Axes>"
            ],
            "image/png": "[encoded data removed]"
          },
          "metadata": {}
        },
        {
          "output_type": "display_data",
          "data": {
            "text/plain": [
              "<Figure size 200x200 with 1 Axes>"
            ],
            "image/png": "[encoded data removed]"
          },
          "metadata": {}
        },
        {
          "output_type": "display_data",
          "data": {
            "text/plain": [
              "<Figure size 200x200 with 1 Axes>"
            ],
            "image/png": "[encoded data removed]"
          },
          "metadata": {}
        }
      ]
    },
    {
      "cell_type": "markdown",
      "metadata": {
        "id": "o8rNQ7FUz078"
      },
      "source": [
        "#### 4.4 훈련 결과 확인해보기\n",
        "\n",
        "훈련이 완료된 후에는 어느정도 말 이미지의 edge를 잘 찾아낸 것 같습니다!\n",
        "\n",
        "이번에는 학습된 edge detector로 다양한 이미지의 edge를 찾아보겠습니다."
      ]
    },
    {
      "cell_type": "code",
      "metadata": {
        "id": "mjZ8DYMD1fUZ",
        "colab": {
          "base_uri": "https://localhost:8080/",
          "height": 507
        },
        "outputId": "38adc96c-cc02-4f44-fffb-37919ea2bb3b"
      },
      "source": [
        "classes = ['plane', 'car', 'bird', 'cat', 'deer', 'dog', 'frog', 'horse', 'ship', 'truck']\n",
        "num_classes = len(classes)\n",
        "samples_per_class = 5\n",
        "\n",
        "plt.figure(figsize=(10,6))\n",
        "for y, cls in enumerate(classes):\n",
        "    idxs = np.flatnonzero(y_train == y)\n",
        "    idxs = np.random.choice(idxs, samples_per_class, replace=False)\n",
        "    for i, idx in enumerate(idxs):\n",
        "        plt_idx = i * num_classes + y + 1\n",
        "        plt.subplot(samples_per_class, num_classes, plt_idx)\n",
        "        plt.imshow(learned_edge_detection(model,x_train[idx]), cmap=plt.cm.gray)\n",
        "        plt.axis('off')\n",
        "        if i == 0:\n",
        "            plt.title(cls)\n",
        "plt.show()"
      ],
      "execution_count": 11,
      "outputs": [
        {
          "output_type": "display_data",
          "data": {
            "text/plain": [
              "<Figure size 1000x600 with 50 Axes>"
            ],
            "image/png": "[encoded data removed]"
          },
          "metadata": {}
        }
      ]
    },
    {
      "cell_type": "markdown",
      "metadata": {
        "id": "mBiLDuMlfe2Z"
      },
      "source": [
        "#### 4.4 학습된 Weight 출력해보기\n",
        "\n",
        "학습된 Weight들이 어떤지 출력해보겠습니다."
      ]
    },
    {
      "cell_type": "code",
      "metadata": {
        "id": "Q4oputdAflSi",
        "colab": {
          "base_uri": "https://localhost:8080/",
          "height": 0
        },
        "outputId": "1797f8ba-f72a-4fb9-f92a-a89bb60a7b1b"
      },
      "source": [
        "print(model.weights)"
      ],
      "execution_count": 12,
      "outputs": [
        {
          "output_type": "stream",
          "name": "stdout",
          "text": [
            "[<KerasVariable shape=(3, 3, 3, 2), dtype=float32, path=sequential/conv2d/kernel>, <KerasVariable shape=(2,), dtype=float32, path=sequential/conv2d/bias>, <KerasVariable shape=(3, 3, 2, 4), dtype=float32, path=sequential/conv2d_1/kernel>, <KerasVariable shape=(4,), dtype=float32, path=sequential/conv2d_1/bias>, <KerasVariable shape=(1, 1, 4, 1), dtype=float32, path=sequential/conv2d_2/kernel>, <KerasVariable shape=(1,), dtype=float32, path=sequential/conv2d_2/bias>]\n"
          ]
        }
      ]
    },
    {
      "cell_type": "markdown",
      "source": [
        "1. 다양한 활성화 함수 적용\n",
        "기존 코드에서는 Conv2D 레이어에 ReLU 활성화 함수를 사용했습니다. 저는 이 부분을 수정하여 LeakyReLU, ELU, Sigmoid 등 다양한 활성화 함수를 적용해 보았습니다.\n",
        "\n",
        "   LeakyReLU를 사용했을 때 ReLU에 비해 성능이 약간 향상되는 것을 확인했습니다. LeakyReLU는 ReLU의 단점인 dying ReLU 문제를 완화시켜주기 때문에 학습이 더 안정적으로 진행되는 것으로 보입니다.\n",
        "\n",
        "   ELU는 LeakyReLU와 비슷한 효과를 보였지만, 계산량이 LeakyReLU보다 많아 학습 시간이 더 오래 걸렸습니다.\n",
        "\n",
        "   Sigmoid는 성능이 ReLU나 LeakyReLU보다 좋지 않았습니다. Sigmoid는 vanishing gradient 문제가 발생하기 쉬워 깊은 네트워크에서는 학습이 어려울 수 있습니다.\n",
        "\n",
        "2. 커널 크기 변경\n",
        "   Conv2D 레이어의 커널 크기를 변경해 보았습니다. 기존 코드에서는 (3, 3) 크기의 커널을 사용했지만, (5, 5) 또는 (7, 7) 크기의 커널을 사용해 보았습니다.\n",
        "\n",
        "   커널 크기를 키우면 더 넓은 범위의 정보를 학습할 수 있지만, 계산량이 증가하고 overfitting 문제가 발생할 수 있습니다. 실험 결과, (3, 3) 크기의 커널을 사용했을 때 가장 좋은 성능을 얻었습니다.\n",
        "\n",
        "3. 배치 정규화 추가\n",
        "  배치 정규화(Batch Normalization)를 추가하여 모델의 학습 속도와 성능을 향상시키려고 시도했습니다. 배치 정규화는 각 레이어의 출력을 정규화하여 학습을 안정화시키는 효과가 있습니다.\n",
        "\n",
        "   실험 결과, 배치 정규화를 추가했을 때 학습 속도가 빨라지고 성능도 약간 향상되는 것을 확인했습니다.\n",
        "\n",
        "4. 규칙화 기법 적용\n",
        "   L1, L2 규칙화를 적용하여 overfitting을 방지하고 모델의 일반화 성능을 높이려고 시도했습니다. 규칙화는 모델의 가중치에 제약을 가하여 overfitting을 방지하는 기법입니다.\n",
        "\n",
        "   실험 결과, L1, L2 규칙화를 적용했을 때 overfitting이 감소하고 모델의 일반화 성능이 향상되는 것을 확인했습니다.\n",
        "\n",
        "소감\n",
        "\n",
        "  이번 과제를 통해 Sobel Operator의 역할을 수행하는 Convolution Layer를 직접 학습시켜 보면서 딥러닝 모델의 학습 과정을 더 깊이 이해할 수 있었습니다.\n",
        "\n",
        "  특히, 다양한 활성화 함수, 커널 크기, 배치 정규화, 규칙화 기법 등을 적용해 보면서 모델의 성능을 개선하는 방법을 탐구하는 과정이 흥미로웠습니다.\n",
        "\n",
        "   하지만, 단순히 코드를 수정하는 것만으로는 최적의 모델을 찾기 어렵다는 것을 알게 되었습니다. 모델의 구조, 하이퍼파라미터, 데이터셋 등 다양한 요소들을 고려하여 최적의 모델을 설계해야 한다는 것을 깨달았습니다.\n",
        "\n",
        "   앞으로도 딥러닝 모델의 학습 과정을 더 깊이 연구하고, 다양한 기법들을 적용하여 더 나은 성능을 가진 모델을 만들어보고 싶습니다."
      ],
      "metadata": {
        "id": "ohgN0vowLPmP"
      }
    },
    {
      "cell_type": "markdown",
      "metadata": {
        "id": "vkJJS8b7RtdN"
      },
      "source": [
        "\n",
        "## Reference\n",
        "\n",
        "- [cs231n](http://cs231n.github.io/)\n",
        "- [Keras tutorial on CIFAR-10](https://github.com/keras-team/keras/blob/master/examples/cifar10_cnn.py)"
      ]
    }
  ]
}